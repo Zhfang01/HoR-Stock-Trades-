{
 "cells": [
  {
   "cell_type": "markdown",
   "metadata": {},
   "source": [
    "# Are the distributions of Stocks Transaction Made by the US House of Representatives Disclosed in Year 2020 and Stocks Transaction Disclosed After Year 2020 different?\n",
    "\n",
    "\n",
    "\n",
    "\n"
   ]
  },
  {
   "cell_type": "markdown",
   "metadata": {},
   "source": [
    "## Summary of Findings\n",
    "\n",
    "### Introduction\n",
    "The data is collected and maintained by Timothy Carambat as part of the House Stock Watcher project, and the dataset \"all_transactions\" contains data about the stock trades made by members of the US House of Representatives. It has 14180 observations and 12 variables; including the disclosure dates, transaction dates, owners, tickers, the full name of tickers, trade types, trade amounts, representatives, districts, and capital gains that are over 200 USD of stocks. Since the data are collected through reports from Members of Congress and are transcribed by the community of contributors, there might be unfaithful data contained within the dataset as not everyone might be totally honest about their reports, especially when associated with money. **Our question is are the distributions of stocks transaction made by the US House of Representatives disclosed in year 2020 and stocks transaction disclosed after year 2020 different?** \n",
    "\n",
    "Since we have the columns **\"disclosure_year\" and \"type\"**, we perform a permutation test based on the information provided and find out if the distributions of trade types differ significantly between 2020 and years after 2020.\n",
    "\n",
    "\n",
    "### Cleaning and EDA\n",
    "For data cleaning, first of all, we dropped columns \"ptr_link\", \"asset_description\" and \"amount\" so that our dataframe looks tidier since they are irrelevant to our project. Then, we **replaced all the \"--\" values with null**. Furthermore, since we are comparing between 2020 and years after 2020 (containing both 2021 and 2022), we also changed the \"disclosure_year\" column from [2020,2021,2022] to [2020, 2021]. We changed 2022 into 2021 and treated them as the same group. So in our case, all stocks disclosed in either 2021 or 2022 are displayed as 2021 in \"disclosure_year\" column. \n",
    "\n",
    "For columns \"disclosure_year\" and \"type\", we looked at both of their distributions and found that there are no unreasonable values and strings, so we don't need to get rid of any unreasonable values and this makes things easy for us to analyze. Also, since the amounts of stocks disclosed in 2020 and in years after 2020 are quite different, we decided to compare the distributions of stocks in two periods through the proportions rather than the number of stocks. Moreover, we assumed that there might be unfaithful data as people tend to lie when dealing with money. Indeed, after analyzing the amount range reported by representatives,  we found very doubtful fact from the dataset that proves unfaithful data exists. But since our question is not related to representatives and the number of stock values, we can ignore the fact that some unfaithful data exists in the dataset.\n",
    "\n",
    "### Assessment of Missingness\n",
    "While cleaning the data, we notice the dataset has only one column with non-trivial missingness called \"owner\", which represents missing values with np.NaN and \"--\". However, **there is no NMAR column** because while the \"owner\" column contains a large amount of missing data, instead of randomly choose not to answer owner information, there are other possible factors like **representative, district, and cap gains**, that make the representatives choose to not answer such questions for their own benefit during data generating.<br>\n",
    "After running simulations in permutation tests with **level of significance at 0.01** for better accuracy, the probability of the distributions of \"cap_gains_over_200_usd\", \"district\", and \"representative\" when \"owner\" is the same is 0.00, indicating that \"owner\" depends on all of the three columns. After running permutation test, we discover that owner largely dependend on the column \"cap_gains_over_200_usd\" and \"district\" because the observed total variation distance and stimulateed total variation cannot be drawn in one graph. The missingness might help us better analyze whether the congressmen hide their transaction information on purpose and what are the factors that lead to such decisions.\n",
    "\n",
    "\n",
    "### Hypothesis Test\n",
    "We perform a permutation test.The null hypothesis is **\"the trade types of stocks disclosed in 2020 and trade types of those disclosed in 2021 and 2022 have the same distribution. The difference we saw was due to random chance\"**, and the alternative hypothesis is **\"the trade types of stocks disclosed in 2020 has different distribution from the trade types of those disclosed in 2021 and 2022\"**.\n",
    "\n",
    "Test statistic: Total variation distance\n",
    "\n",
    "**Level of significance: 0.01 / 1%**\n",
    "\n",
    "**Resulting p-value: 0.0**\n",
    "\n",
    "Conclusion: Given that p-value is so small that is even smaller than our p-value cutoff, **we reject the null hypothesis** that \"the trade types of stocks disclosed in 2020 and trade types of those disclosed in 2021 and 2022 have the same distribution. The difference we saw was due to random chance\". To determine the further reason behind such a phenomenon, we'll look for more dataset for analysis. \n",
    "\n",
    "**The reason why TVD is an ideal test statistic is that we are comparing two categorical distributions. The level of significance is 0.01 rather than 0.05 because we want to be more strict on the significant level standard and arrive at a more convincing conclusion.**\n",
    "\n",
    "In the future, we'll implement more datasets to create a more comprehensive resources to answer our questions and we might use dataset that is relative with stock market and Covid-19 Cases. \n",
    "\n",
    "\n"
   ]
  },
  {
   "cell_type": "markdown",
   "metadata": {},
   "source": [
    "## Code"
   ]
  },
  {
   "cell_type": "code",
   "execution_count": 1,
   "metadata": {
    "ExecuteTime": {
     "end_time": "2019-10-31T23:36:28.652554Z",
     "start_time": "2019-10-31T23:36:27.180520Z"
    }
   },
   "outputs": [],
   "source": [
    "import matplotlib.pyplot as plt\n",
    "import numpy as np\n",
    "import os\n",
    "import pandas as pd\n",
    "import seaborn as sns"
   ]
  },
  {
   "cell_type": "markdown",
   "metadata": {},
   "source": [
    "### Cleaning and EDA"
   ]
  },
  {
   "cell_type": "markdown",
   "metadata": {},
   "source": [
    "First, we will import the csv file into the notebook so that we can manipulate and get data from the dataframe. Then, we will drop those unnecessary columns to make our dataframe look tidier."
   ]
  },
  {
   "cell_type": "code",
   "execution_count": 2,
   "metadata": {},
   "outputs": [
    {
     "data": {
      "text/html": [
       "<div>\n",
       "<style scoped>\n",
       "    .dataframe tbody tr th:only-of-type {\n",
       "        vertical-align: middle;\n",
       "    }\n",
       "\n",
       "    .dataframe tbody tr th {\n",
       "        vertical-align: top;\n",
       "    }\n",
       "\n",
       "    .dataframe thead th {\n",
       "        text-align: right;\n",
       "    }\n",
       "</style>\n",
       "<table border=\"1\" class=\"dataframe\">\n",
       "  <thead>\n",
       "    <tr style=\"text-align: right;\">\n",
       "      <th></th>\n",
       "      <th>disclosure_year</th>\n",
       "      <th>disclosure_date</th>\n",
       "      <th>transaction_date</th>\n",
       "      <th>owner</th>\n",
       "      <th>ticker</th>\n",
       "      <th>type</th>\n",
       "      <th>representative</th>\n",
       "      <th>district</th>\n",
       "      <th>cap_gains_over_200_usd</th>\n",
       "    </tr>\n",
       "  </thead>\n",
       "  <tbody>\n",
       "    <tr>\n",
       "      <th>0</th>\n",
       "      <td>2021</td>\n",
       "      <td>10/04/2021</td>\n",
       "      <td>2021-09-27</td>\n",
       "      <td>joint</td>\n",
       "      <td>BP</td>\n",
       "      <td>purchase</td>\n",
       "      <td>Hon. Virginia Foxx</td>\n",
       "      <td>NC05</td>\n",
       "      <td>False</td>\n",
       "    </tr>\n",
       "    <tr>\n",
       "      <th>1</th>\n",
       "      <td>2021</td>\n",
       "      <td>10/04/2021</td>\n",
       "      <td>2021-09-13</td>\n",
       "      <td>joint</td>\n",
       "      <td>XOM</td>\n",
       "      <td>purchase</td>\n",
       "      <td>Hon. Virginia Foxx</td>\n",
       "      <td>NC05</td>\n",
       "      <td>False</td>\n",
       "    </tr>\n",
       "    <tr>\n",
       "      <th>2</th>\n",
       "      <td>2021</td>\n",
       "      <td>10/04/2021</td>\n",
       "      <td>2021-09-10</td>\n",
       "      <td>joint</td>\n",
       "      <td>ILPT</td>\n",
       "      <td>purchase</td>\n",
       "      <td>Hon. Virginia Foxx</td>\n",
       "      <td>NC05</td>\n",
       "      <td>False</td>\n",
       "    </tr>\n",
       "    <tr>\n",
       "      <th>3</th>\n",
       "      <td>2021</td>\n",
       "      <td>10/04/2021</td>\n",
       "      <td>2021-09-28</td>\n",
       "      <td>joint</td>\n",
       "      <td>PM</td>\n",
       "      <td>purchase</td>\n",
       "      <td>Hon. Virginia Foxx</td>\n",
       "      <td>NC05</td>\n",
       "      <td>False</td>\n",
       "    </tr>\n",
       "    <tr>\n",
       "      <th>4</th>\n",
       "      <td>2021</td>\n",
       "      <td>10/04/2021</td>\n",
       "      <td>2021-09-17</td>\n",
       "      <td>self</td>\n",
       "      <td>BLK</td>\n",
       "      <td>sale_partial</td>\n",
       "      <td>Hon. Alan S. Lowenthal</td>\n",
       "      <td>CA47</td>\n",
       "      <td>False</td>\n",
       "    </tr>\n",
       "  </tbody>\n",
       "</table>\n",
       "</div>"
      ],
      "text/plain": [
       "   disclosure_year disclosure_date transaction_date  owner ticker  \\\n",
       "0             2021      10/04/2021       2021-09-27  joint     BP   \n",
       "1             2021      10/04/2021       2021-09-13  joint    XOM   \n",
       "2             2021      10/04/2021       2021-09-10  joint   ILPT   \n",
       "3             2021      10/04/2021       2021-09-28  joint     PM   \n",
       "4             2021      10/04/2021       2021-09-17   self    BLK   \n",
       "\n",
       "           type          representative district  cap_gains_over_200_usd  \n",
       "0      purchase      Hon. Virginia Foxx     NC05                   False  \n",
       "1      purchase      Hon. Virginia Foxx     NC05                   False  \n",
       "2      purchase      Hon. Virginia Foxx     NC05                   False  \n",
       "3      purchase      Hon. Virginia Foxx     NC05                   False  \n",
       "4  sale_partial  Hon. Alan S. Lowenthal     CA47                   False  "
      ]
     },
     "execution_count": 2,
     "metadata": {},
     "output_type": "execute_result"
    }
   ],
   "source": [
    "df = pd.read_csv(\"all_transactions.csv\").\\\n",
    "drop(columns = [\"ptr_link\", \"asset_description\", \"amount\"])\n",
    "df.head()"
   ]
  },
  {
   "cell_type": "markdown",
   "metadata": {},
   "source": [
    "Then, we will perform data cleaning by replacing all the meaningless values \"--\" with null. To make sure we successfully replaced all \"--\" values, we will record the number of null values in the dataframe and compare the number before and after conversion."
   ]
  },
  {
   "cell_type": "code",
   "execution_count": 3,
   "metadata": {},
   "outputs": [
    {
     "data": {
      "text/plain": [
       "disclosure_year              0\n",
       "disclosure_date              0\n",
       "transaction_date             0\n",
       "owner                     5322\n",
       "ticker                       0\n",
       "type                         0\n",
       "representative               0\n",
       "district                     0\n",
       "cap_gains_over_200_usd       0\n",
       "dtype: int64"
      ]
     },
     "execution_count": 3,
     "metadata": {},
     "output_type": "execute_result"
    }
   ],
   "source": [
    "#The number of null values before data cleaning\n",
    "df.isna().sum()"
   ]
  },
  {
   "cell_type": "markdown",
   "metadata": {},
   "source": [
    "As we can see, the number of null values increases, so we successfully replaced \"--\" with null."
   ]
  },
  {
   "cell_type": "code",
   "execution_count": 4,
   "metadata": {},
   "outputs": [
    {
     "data": {
      "text/plain": [
       "disclosure_year              0\n",
       "disclosure_date              0\n",
       "transaction_date             0\n",
       "owner                     6637\n",
       "ticker                    1137\n",
       "type                         0\n",
       "representative               0\n",
       "district                     0\n",
       "cap_gains_over_200_usd       0\n",
       "dtype: int64"
      ]
     },
     "execution_count": 4,
     "metadata": {},
     "output_type": "execute_result"
    }
   ],
   "source": [
    "#The number of null values after data cleaning\n",
    "df = df.replace(\"--\", np.NaN)\n",
    "df.isna().sum()"
   ]
  },
  {
   "cell_type": "markdown",
   "metadata": {},
   "source": [
    "Now, we are going to change all \"2022\" into \"2021\" in the \"disclosure_year\" column to represent the single group \"years after 2020\". "
   ]
  },
  {
   "cell_type": "code",
   "execution_count": 5,
   "metadata": {},
   "outputs": [
    {
     "data": {
      "text/plain": [
       "2020    7379\n",
       "2021    5520\n",
       "2022    1281\n",
       "Name: disclosure_year, dtype: int64"
      ]
     },
     "execution_count": 5,
     "metadata": {},
     "output_type": "execute_result"
    }
   ],
   "source": [
    "df[\"disclosure_year\"].value_counts()"
   ]
  },
  {
   "cell_type": "markdown",
   "metadata": {},
   "source": [
    "As we can see, before transformation, there are 5520 \"2021\" and 1281 \"2022\", and there are 6801 \"2021\" after transformation."
   ]
  },
  {
   "cell_type": "code",
   "execution_count": 6,
   "metadata": {},
   "outputs": [
    {
     "data": {
      "text/plain": [
       "2020    7379\n",
       "2021    6801\n",
       "Name: disclosure_year, dtype: int64"
      ]
     },
     "execution_count": 6,
     "metadata": {},
     "output_type": "execute_result"
    }
   ],
   "source": [
    "df[\"disclosure_year\"] = df[\"disclosure_year\"].replace(2022, 2021)\n",
    "df[\"disclosure_year\"].value_counts()"
   ]
  },
  {
   "cell_type": "markdown",
   "metadata": {},
   "source": [
    "#### Univariate Analysis\n",
    "Now, let's look at the columns relavent to our question (\"disclosure_year\" and \"type\") and see if there are any strange values or strings we need to take care of."
   ]
  },
  {
   "cell_type": "markdown",
   "metadata": {},
   "source": [
    "Firtsly, the following plot **\"disclosure year in total\"** demonstrates the distribution of total number of transactions in year 2020 and after 2020."
   ]
  },
  {
   "cell_type": "code",
   "execution_count": 7,
   "metadata": {},
   "outputs": [
    {
     "name": "stderr",
     "output_type": "stream",
     "text": [
      "/Users/zhen/opt/anaconda3/lib/python3.8/site-packages/seaborn/_decorators.py:36: FutureWarning: Pass the following variable as a keyword arg: x. From version 0.12, the only valid positional argument will be `data`, and passing other arguments without an explicit keyword will result in an error or misinterpretation.\n",
      "  warnings.warn(\n"
     ]
    },
    {
     "data": {
      "text/plain": [
       "[Text(0.5, 1.0, 'disclosure year in total')]"
      ]
     },
     "execution_count": 7,
     "metadata": {},
     "output_type": "execute_result"
    },
    {
     "data": {
      "image/png": "[encoded data removed]",
      "text/plain": [
       "<Figure size 432x288 with 1 Axes>"
      ]
     },
     "metadata": {
      "needs_background": "light"
     },
     "output_type": "display_data"
    }
   ],
   "source": [
    "sns.countplot(df[\"disclosure_year\"]).set(title = \"disclosure year in total\")\n",
    "#make countplot to see if there are any strange values besides \"2020\" and \"2021\""
   ]
  },
  {
   "cell_type": "markdown",
   "metadata": {},
   "source": [
    "Secondly, the plot **\"stock types in total\"** demonstrates the types of total transcations and their total numeber according to each type of transaction."
   ]
  },
  {
   "cell_type": "code",
   "execution_count": 8,
   "metadata": {
    "ExecuteTime": {
     "end_time": "2019-10-31T23:36:28.657068Z",
     "start_time": "2019-10-31T23:36:28.654650Z"
    }
   },
   "outputs": [
    {
     "name": "stderr",
     "output_type": "stream",
     "text": [
      "/Users/zhen/opt/anaconda3/lib/python3.8/site-packages/seaborn/_decorators.py:36: FutureWarning: Pass the following variable as a keyword arg: x. From version 0.12, the only valid positional argument will be `data`, and passing other arguments without an explicit keyword will result in an error or misinterpretation.\n",
      "  warnings.warn(\n"
     ]
    },
    {
     "data": {
      "text/plain": [
       "[Text(0.5, 1.0, 'stock types in total')]"
      ]
     },
     "execution_count": 8,
     "metadata": {},
     "output_type": "execute_result"
    },
    {
     "data": {
      "image/png": "[encoded data removed]",
      "text/plain": [
       "<Figure size 432x288 with 1 Axes>"
      ]
     },
     "metadata": {
      "needs_background": "light"
     },
     "output_type": "display_data"
    }
   ],
   "source": [
    "sns.countplot(df[\"type\"]).set(title = \"stock types in total\")\n",
    "#make countplot to see if there are any strange values in \"type\" column"
   ]
  },
  {
   "cell_type": "markdown",
   "metadata": {},
   "source": [
    "The disclosure_year column only contains values \"2020\" and \"2021\", column \"type\" only contains \"purchase\",\"sale_partial\",\"sale_full\",\"exchange\". We don't observe any strange values that we need to take care of in both \"disclosure_year\" and \"type\" columns"
   ]
  },
  {
   "cell_type": "markdown",
   "metadata": {},
   "source": [
    "#### Bivariate Analysis\n",
    "Now, let's look at both \"disclosure_year\" and \"type\" columns and see if there are any possible associations between distributions of stock types disclosed in 2020 and distributions of those disclosed after 2020. By doing this, we will create a barplot to see the proportions of each stock type in different years."
   ]
  },
  {
   "cell_type": "markdown",
   "metadata": {},
   "source": [
    "Since there are a different number of stocks disclosed in 2020 and in years after 2020 in the dataset, we can't compare the numbers above directly. We need to convert counts to proportions, separately for 2020 and 2021 stocks."
   ]
  },
  {
   "cell_type": "markdown",
   "metadata": {},
   "source": [
    "The plot **\"Comparison between distributions of 2020 and 2021\"** shows distributions of year 2020 and years after 2020 in different four types of transactions."
   ]
  },
  {
   "cell_type": "code",
   "execution_count": 9,
   "metadata": {},
   "outputs": [
    {
     "data": {
      "image/png": "[encoded data removed]",
      "text/plain": [
       "<Figure size 432x288 with 1 Axes>"
      ]
     },
     "metadata": {
      "needs_background": "light"
     },
     "output_type": "display_data"
    }
   ],
   "source": [
    "#the number of each stock types in two different periods\n",
    "pivot_num = df.pivot_table(index='type', \\\n",
    "                           columns='disclosure_year', aggfunc='size')\n",
    "#proportions of each stock type takes in year 2020\n",
    "dist1 = df[df[\"disclosure_year\"] == 2020][\"type\"].value_counts() /\\\n",
    "df[df[\"disclosure_year\"] == 2020][\"type\"].value_counts().sum()\n",
    "dist2 = df[df[\"disclosure_year\"] == 2021][\"type\"].value_counts()\\\n",
    "/df[df[\"disclosure_year\"] == 2021][\"type\"].value_counts().sum()\n",
    "#create a barplot to visualize the distributions of tock types \n",
    "#disclosed in two different periods\n",
    "types = [\"purchase\", \"sale_full\", \"sale_partial\", \"exchange\"]\n",
    "p1 = [dist1]\n",
    "p2 = [dist2]\n",
    "x_axis = np.arange(len(types))\n",
    "plt.bar(x_axis -0.2, dist1, width=0.4, label = '2020')\n",
    "plt.bar(x_axis +0.2, dist2, width=0.4, label = '2021')\n",
    "plt.xticks(x_axis, types)\n",
    "plt.title(\"Comparison between distributions of 2020 and 2021\")\n",
    "plt.legend()\n",
    "plt.show()"
   ]
  },
  {
   "cell_type": "markdown",
   "metadata": {},
   "source": [
    "From the above plot, we can see that \"purchase\" type always takes the most proportion and \"exchange\" type always takes less in both of these periods. Moreover, we can see that the distributions of stock types are not so different in 2020 and years after 2020. However, we are not able to directly conclude that the distributions of stock types disclosed in 2020 are the same as  the distributions of stock types disclosed after 2020."
   ]
  },
  {
   "cell_type": "markdown",
   "metadata": {},
   "source": [
    "#### Aggregates\n",
    "\n",
    "For this part, we will create pivot tables to visualize the exact numbers and proportions of each stock type disclosed in 2020 and years after 2020, and also create other pivot tables (if needed) to see if there are any other interesting phenomenon."
   ]
  },
  {
   "cell_type": "code",
   "execution_count": 10,
   "metadata": {},
   "outputs": [
    {
     "data": {
      "text/html": [
       "<div>\n",
       "<style scoped>\n",
       "    .dataframe tbody tr th:only-of-type {\n",
       "        vertical-align: middle;\n",
       "    }\n",
       "\n",
       "    .dataframe tbody tr th {\n",
       "        vertical-align: top;\n",
       "    }\n",
       "\n",
       "    .dataframe thead th {\n",
       "        text-align: right;\n",
       "    }\n",
       "</style>\n",
       "<table border=\"1\" class=\"dataframe\">\n",
       "  <thead>\n",
       "    <tr style=\"text-align: right;\">\n",
       "      <th>disclosure_year</th>\n",
       "      <th>2020</th>\n",
       "      <th>2021</th>\n",
       "    </tr>\n",
       "    <tr>\n",
       "      <th>type</th>\n",
       "      <th></th>\n",
       "      <th></th>\n",
       "    </tr>\n",
       "  </thead>\n",
       "  <tbody>\n",
       "    <tr>\n",
       "      <th>exchange</th>\n",
       "      <td>0.012332</td>\n",
       "      <td>0.004705</td>\n",
       "    </tr>\n",
       "    <tr>\n",
       "      <th>purchase</th>\n",
       "      <td>0.499661</td>\n",
       "      <td>0.541685</td>\n",
       "    </tr>\n",
       "    <tr>\n",
       "      <th>sale_full</th>\n",
       "      <td>0.314677</td>\n",
       "      <td>0.326423</td>\n",
       "    </tr>\n",
       "    <tr>\n",
       "      <th>sale_partial</th>\n",
       "      <td>0.173330</td>\n",
       "      <td>0.127187</td>\n",
       "    </tr>\n",
       "  </tbody>\n",
       "</table>\n",
       "</div>"
      ],
      "text/plain": [
       "disclosure_year      2020      2021\n",
       "type                               \n",
       "exchange         0.012332  0.004705\n",
       "purchase         0.499661  0.541685\n",
       "sale_full        0.314677  0.326423\n",
       "sale_partial     0.173330  0.127187"
      ]
     },
     "execution_count": 10,
     "metadata": {},
     "output_type": "execute_result"
    }
   ],
   "source": [
    "#pivot table shows the exact proportions of each \n",
    "#stock type disclosed in 2020 and years after 2020\n",
    "df_pivot = df.pivot_table(index='disclosure_year', \\\n",
    "                          columns='type', values = 'disclosure_date', aggfunc='count')\n",
    "df_pivot.T / list(df_pivot.sum(axis = 1))"
   ]
  },
  {
   "cell_type": "markdown",
   "metadata": {},
   "source": [
    "When checking values of each column of our dataset, we find an interesting situation that there is an option \"$1001 -\" without upper limit, and some representatives reported their stocks with this range altogether for 242 times. Are they trying to hide the true values of their stocks? To make us easier to see, we will create a pivot table for the \"amount\" of stocks for each representative."
   ]
  },
  {
   "cell_type": "code",
   "execution_count": 11,
   "metadata": {},
   "outputs": [
    {
     "data": {
      "text/html": [
       "<div>\n",
       "<style scoped>\n",
       "    .dataframe tbody tr th:only-of-type {\n",
       "        vertical-align: middle;\n",
       "    }\n",
       "\n",
       "    .dataframe tbody tr th {\n",
       "        vertical-align: top;\n",
       "    }\n",
       "\n",
       "    .dataframe thead th {\n",
       "        text-align: right;\n",
       "    }\n",
       "</style>\n",
       "<table border=\"1\" class=\"dataframe\">\n",
       "  <thead>\n",
       "    <tr style=\"text-align: right;\">\n",
       "      <th></th>\n",
       "      <th>representative</th>\n",
       "    </tr>\n",
       "    <tr>\n",
       "      <th>amount</th>\n",
       "      <th></th>\n",
       "    </tr>\n",
       "  </thead>\n",
       "  <tbody>\n",
       "    <tr>\n",
       "      <th>$1,000 - $15,000</th>\n",
       "      <td>4</td>\n",
       "    </tr>\n",
       "    <tr>\n",
       "      <th>$1,000,000 +</th>\n",
       "      <td>28</td>\n",
       "    </tr>\n",
       "    <tr>\n",
       "      <th>$1,000,000 - $5,000,000</th>\n",
       "      <td>1</td>\n",
       "    </tr>\n",
       "    <tr>\n",
       "      <th>$1,000,001 - $5,000,000</th>\n",
       "      <td>38</td>\n",
       "    </tr>\n",
       "    <tr>\n",
       "      <th>$1,001 -</th>\n",
       "      <td>242</td>\n",
       "    </tr>\n",
       "    <tr>\n",
       "      <th>$1,001 - $15,000</th>\n",
       "      <td>9990</td>\n",
       "    </tr>\n",
       "    <tr>\n",
       "      <th>$100,001 - $250,000</th>\n",
       "      <td>544</td>\n",
       "    </tr>\n",
       "    <tr>\n",
       "      <th>$15,000 - $50,000</th>\n",
       "      <td>3</td>\n",
       "    </tr>\n",
       "    <tr>\n",
       "      <th>$15,001 - $50,000</th>\n",
       "      <td>2235</td>\n",
       "    </tr>\n",
       "    <tr>\n",
       "      <th>$250,001 - $500,000</th>\n",
       "      <td>226</td>\n",
       "    </tr>\n",
       "    <tr>\n",
       "      <th>$5,000,001 - $25,000,000</th>\n",
       "      <td>9</td>\n",
       "    </tr>\n",
       "    <tr>\n",
       "      <th>$50,000,000 +</th>\n",
       "      <td>1</td>\n",
       "    </tr>\n",
       "    <tr>\n",
       "      <th>$50,001 - $100,000</th>\n",
       "      <td>717</td>\n",
       "    </tr>\n",
       "    <tr>\n",
       "      <th>$500,001 - $1,000,000</th>\n",
       "      <td>142</td>\n",
       "    </tr>\n",
       "  </tbody>\n",
       "</table>\n",
       "</div>"
      ],
      "text/plain": [
       "                          representative\n",
       "amount                                  \n",
       "$1,000 - $15,000                       4\n",
       "$1,000,000 +                          28\n",
       "$1,000,000 - $5,000,000                1\n",
       "$1,000,001 - $5,000,000               38\n",
       "$1,001 -                             242\n",
       "$1,001 - $15,000                    9990\n",
       "$100,001 - $250,000                  544\n",
       "$15,000 - $50,000                      3\n",
       "$15,001 - $50,000                   2235\n",
       "$250,001 - $500,000                  226\n",
       "$5,000,001 - $25,000,000               9\n",
       "$50,000,000 +                          1\n",
       "$50,001 - $100,000                   717\n",
       "$500,001 - $1,000,000                142"
      ]
     },
     "execution_count": 11,
     "metadata": {},
     "output_type": "execute_result"
    }
   ],
   "source": [
    "amount = pd.read_csv(\"all_transactions.csv\")\\\n",
    ".groupby(\"amount\").count()[[\"representative\"]]\n",
    "amount"
   ]
  },
  {
   "cell_type": "markdown",
   "metadata": {},
   "source": [
    "pivot table for \"amount\" of stocks for each representative."
   ]
  },
  {
   "cell_type": "code",
   "execution_count": 12,
   "metadata": {},
   "outputs": [
    {
     "data": {
      "text/html": [
       "<div>\n",
       "<style scoped>\n",
       "    .dataframe tbody tr th:only-of-type {\n",
       "        vertical-align: middle;\n",
       "    }\n",
       "\n",
       "    .dataframe tbody tr th {\n",
       "        vertical-align: top;\n",
       "    }\n",
       "\n",
       "    .dataframe thead th {\n",
       "        text-align: right;\n",
       "    }\n",
       "</style>\n",
       "<table border=\"1\" class=\"dataframe\">\n",
       "  <thead>\n",
       "    <tr style=\"text-align: right;\">\n",
       "      <th>representative</th>\n",
       "      <th>Hon. Abigail Spanberger</th>\n",
       "      <th>Hon. Adam B. Schiff</th>\n",
       "      <th>Hon. Adam Kinzinger</th>\n",
       "      <th>Hon. Alan S. Lowenthal</th>\n",
       "      <th>Hon. Andrew Garbarino</th>\n",
       "      <th>Hon. Ann Wagner</th>\n",
       "      <th>Hon. Anthony E. Gonzalez</th>\n",
       "      <th>Hon. Aston Donald McEachin</th>\n",
       "      <th>Hon. August Lee Pfluger</th>\n",
       "      <th>Hon. Austin Scott</th>\n",
       "      <th>...</th>\n",
       "      <th>Mr. Peter Meijer</th>\n",
       "      <th>Mr. Scott Franklin</th>\n",
       "      <th>Mr. TJ John (Tj) Cox</th>\n",
       "      <th>Mrs. Marjorie Taylor Greene</th>\n",
       "      <th>None Ashley Hinson Arenholz</th>\n",
       "      <th>None Deborah K. Ross</th>\n",
       "      <th>None Kathy Manning</th>\n",
       "      <th>None Marie Newman</th>\n",
       "      <th>None Sara Jacobs</th>\n",
       "      <th>None Victoria Spartz</th>\n",
       "    </tr>\n",
       "    <tr>\n",
       "      <th>amount</th>\n",
       "      <th></th>\n",
       "      <th></th>\n",
       "      <th></th>\n",
       "      <th></th>\n",
       "      <th></th>\n",
       "      <th></th>\n",
       "      <th></th>\n",
       "      <th></th>\n",
       "      <th></th>\n",
       "      <th></th>\n",
       "      <th></th>\n",
       "      <th></th>\n",
       "      <th></th>\n",
       "      <th></th>\n",
       "      <th></th>\n",
       "      <th></th>\n",
       "      <th></th>\n",
       "      <th></th>\n",
       "      <th></th>\n",
       "      <th></th>\n",
       "      <th></th>\n",
       "    </tr>\n",
       "  </thead>\n",
       "  <tbody>\n",
       "    <tr>\n",
       "      <th>$1,000 - $15,000</th>\n",
       "      <td>0</td>\n",
       "      <td>0</td>\n",
       "      <td>0</td>\n",
       "      <td>0</td>\n",
       "      <td>0</td>\n",
       "      <td>0</td>\n",
       "      <td>0</td>\n",
       "      <td>0</td>\n",
       "      <td>0</td>\n",
       "      <td>0</td>\n",
       "      <td>...</td>\n",
       "      <td>0</td>\n",
       "      <td>0</td>\n",
       "      <td>0</td>\n",
       "      <td>0</td>\n",
       "      <td>0</td>\n",
       "      <td>0</td>\n",
       "      <td>0</td>\n",
       "      <td>0</td>\n",
       "      <td>0</td>\n",
       "      <td>0</td>\n",
       "    </tr>\n",
       "    <tr>\n",
       "      <th>$1,000,000 +</th>\n",
       "      <td>0</td>\n",
       "      <td>0</td>\n",
       "      <td>0</td>\n",
       "      <td>0</td>\n",
       "      <td>0</td>\n",
       "      <td>0</td>\n",
       "      <td>0</td>\n",
       "      <td>0</td>\n",
       "      <td>0</td>\n",
       "      <td>0</td>\n",
       "      <td>...</td>\n",
       "      <td>0</td>\n",
       "      <td>0</td>\n",
       "      <td>0</td>\n",
       "      <td>0</td>\n",
       "      <td>1</td>\n",
       "      <td>0</td>\n",
       "      <td>0</td>\n",
       "      <td>0</td>\n",
       "      <td>0</td>\n",
       "      <td>0</td>\n",
       "    </tr>\n",
       "    <tr>\n",
       "      <th>$1,000,000 - $5,000,000</th>\n",
       "      <td>0</td>\n",
       "      <td>0</td>\n",
       "      <td>0</td>\n",
       "      <td>0</td>\n",
       "      <td>0</td>\n",
       "      <td>0</td>\n",
       "      <td>0</td>\n",
       "      <td>0</td>\n",
       "      <td>0</td>\n",
       "      <td>0</td>\n",
       "      <td>...</td>\n",
       "      <td>0</td>\n",
       "      <td>0</td>\n",
       "      <td>0</td>\n",
       "      <td>0</td>\n",
       "      <td>0</td>\n",
       "      <td>0</td>\n",
       "      <td>0</td>\n",
       "      <td>0</td>\n",
       "      <td>0</td>\n",
       "      <td>0</td>\n",
       "    </tr>\n",
       "    <tr>\n",
       "      <th>$1,000,001 - $5,000,000</th>\n",
       "      <td>0</td>\n",
       "      <td>0</td>\n",
       "      <td>0</td>\n",
       "      <td>0</td>\n",
       "      <td>0</td>\n",
       "      <td>1</td>\n",
       "      <td>0</td>\n",
       "      <td>0</td>\n",
       "      <td>0</td>\n",
       "      <td>0</td>\n",
       "      <td>...</td>\n",
       "      <td>0</td>\n",
       "      <td>1</td>\n",
       "      <td>0</td>\n",
       "      <td>0</td>\n",
       "      <td>0</td>\n",
       "      <td>0</td>\n",
       "      <td>0</td>\n",
       "      <td>0</td>\n",
       "      <td>0</td>\n",
       "      <td>0</td>\n",
       "    </tr>\n",
       "    <tr>\n",
       "      <th>$1,001 -</th>\n",
       "      <td>0</td>\n",
       "      <td>0</td>\n",
       "      <td>0</td>\n",
       "      <td>227</td>\n",
       "      <td>0</td>\n",
       "      <td>0</td>\n",
       "      <td>0</td>\n",
       "      <td>0</td>\n",
       "      <td>0</td>\n",
       "      <td>0</td>\n",
       "      <td>...</td>\n",
       "      <td>0</td>\n",
       "      <td>0</td>\n",
       "      <td>0</td>\n",
       "      <td>0</td>\n",
       "      <td>0</td>\n",
       "      <td>0</td>\n",
       "      <td>0</td>\n",
       "      <td>0</td>\n",
       "      <td>0</td>\n",
       "      <td>0</td>\n",
       "    </tr>\n",
       "  </tbody>\n",
       "</table>\n",
       "<p>5 rows × 178 columns</p>\n",
       "</div>"
      ],
      "text/plain": [
       "representative           Hon. Abigail Spanberger  Hon. Adam B. Schiff  \\\n",
       "amount                                                                  \n",
       "$1,000 - $15,000                               0                    0   \n",
       "$1,000,000 +                                   0                    0   \n",
       "$1,000,000 - $5,000,000                        0                    0   \n",
       "$1,000,001 - $5,000,000                        0                    0   \n",
       "$1,001 -                                       0                    0   \n",
       "\n",
       "representative           Hon. Adam Kinzinger  Hon. Alan S. Lowenthal  \\\n",
       "amount                                                                 \n",
       "$1,000 - $15,000                           0                       0   \n",
       "$1,000,000 +                               0                       0   \n",
       "$1,000,000 - $5,000,000                    0                       0   \n",
       "$1,000,001 - $5,000,000                    0                       0   \n",
       "$1,001 -                                   0                     227   \n",
       "\n",
       "representative           Hon. Andrew Garbarino  Hon. Ann Wagner  \\\n",
       "amount                                                            \n",
       "$1,000 - $15,000                             0                0   \n",
       "$1,000,000 +                                 0                0   \n",
       "$1,000,000 - $5,000,000                      0                0   \n",
       "$1,000,001 - $5,000,000                      0                1   \n",
       "$1,001 -                                     0                0   \n",
       "\n",
       "representative           Hon. Anthony E. Gonzalez  Hon. Aston Donald McEachin  \\\n",
       "amount                                                                          \n",
       "$1,000 - $15,000                                0                           0   \n",
       "$1,000,000 +                                    0                           0   \n",
       "$1,000,000 - $5,000,000                         0                           0   \n",
       "$1,000,001 - $5,000,000                         0                           0   \n",
       "$1,001 -                                        0                           0   \n",
       "\n",
       "representative           Hon. August Lee Pfluger  Hon. Austin Scott  ...  \\\n",
       "amount                                                               ...   \n",
       "$1,000 - $15,000                               0                  0  ...   \n",
       "$1,000,000 +                                   0                  0  ...   \n",
       "$1,000,000 - $5,000,000                        0                  0  ...   \n",
       "$1,000,001 - $5,000,000                        0                  0  ...   \n",
       "$1,001 -                                       0                  0  ...   \n",
       "\n",
       "representative           Mr. Peter Meijer  Mr. Scott Franklin  \\\n",
       "amount                                                          \n",
       "$1,000 - $15,000                        0                   0   \n",
       "$1,000,000 +                            0                   0   \n",
       "$1,000,000 - $5,000,000                 0                   0   \n",
       "$1,000,001 - $5,000,000                 0                   1   \n",
       "$1,001 -                                0                   0   \n",
       "\n",
       "representative           Mr. TJ John (Tj) Cox  Mrs. Marjorie Taylor Greene  \\\n",
       "amount                                                                       \n",
       "$1,000 - $15,000                            0                            0   \n",
       "$1,000,000 +                                0                            0   \n",
       "$1,000,000 - $5,000,000                     0                            0   \n",
       "$1,000,001 - $5,000,000                     0                            0   \n",
       "$1,001 -                                    0                            0   \n",
       "\n",
       "representative           None Ashley Hinson Arenholz  None Deborah K. Ross  \\\n",
       "amount                                                                       \n",
       "$1,000 - $15,000                                   0                     0   \n",
       "$1,000,000 +                                       1                     0   \n",
       "$1,000,000 - $5,000,000                            0                     0   \n",
       "$1,000,001 - $5,000,000                            0                     0   \n",
       "$1,001 -                                           0                     0   \n",
       "\n",
       "representative           None Kathy Manning  None Marie Newman  \\\n",
       "amount                                                           \n",
       "$1,000 - $15,000                          0                  0   \n",
       "$1,000,000 +                              0                  0   \n",
       "$1,000,000 - $5,000,000                   0                  0   \n",
       "$1,000,001 - $5,000,000                   0                  0   \n",
       "$1,001 -                                  0                  0   \n",
       "\n",
       "representative           None Sara Jacobs  None Victoria Spartz  \n",
       "amount                                                           \n",
       "$1,000 - $15,000                        0                     0  \n",
       "$1,000,000 +                            0                     0  \n",
       "$1,000,000 - $5,000,000                 0                     0  \n",
       "$1,000,001 - $5,000,000                 0                     0  \n",
       "$1,001 -                                0                     0  \n",
       "\n",
       "[5 rows x 178 columns]"
      ]
     },
     "execution_count": 12,
     "metadata": {},
     "output_type": "execute_result"
    }
   ],
   "source": [
    "pivot_hider = pd.read_csv(\"all_transactions.csv\").\\\n",
    "pivot_table(index='amount', columns='representative',\n",
    "            values = 'disclosure_year', aggfunc='count').\\\n",
    "fillna(0).astype(int)\n",
    "pivot_hider.head()"
   ]
  },
  {
   "cell_type": "markdown",
   "metadata": {},
   "source": [
    "To get a closer look at exactly who reported in \"$1001-\" range the most, we further dive down into the pivot table"
   ]
  },
  {
   "cell_type": "code",
   "execution_count": 13,
   "metadata": {},
   "outputs": [
    {
     "data": {
      "text/plain": [
       "representative\n",
       "Hon. Alan S. Lowenthal             227\n",
       "Hon. David B. McKinley               6\n",
       "Hon. Mikie Sherrill                  5\n",
       "Hon. Thomas Suozzi                   1\n",
       "Hon. Susie Lee                       1\n",
       "Hon. David E. Price                  1\n",
       "Hon. Linda T. Sanchez                1\n",
       "Hon. Neal Patrick MD, FACS Dunn      0\n",
       "Hon. Michael Waltz                   0\n",
       "Hon. Mike Kelly                      0\n",
       "Name: $1,001 -, dtype: int64"
      ]
     },
     "execution_count": 13,
     "metadata": {},
     "output_type": "execute_result"
    }
   ],
   "source": [
    "#find those who reported with range \"$1001 -\"\n",
    "pivot_hider.loc[\"$1,001 -\"].sort_values(ascending = False)[:10]"
   ]
  },
  {
   "cell_type": "markdown",
   "metadata": {},
   "source": [
    "As we can see, although most representatives did not choose to report with range \"$1001-\", there are in total 7 representatives who reported with this range. Since there is no upper limit shown, representatives may be able to hide the true values of their stocks so that maybe they can avoid taxes. Thus, leading by representative Alan S. Lowenthal, we may cast doubt on the true amount of stocks they disclosed and their motivations."
   ]
  },
  {
   "cell_type": "markdown",
   "metadata": {},
   "source": [
    "### Assessment of Missingness"
   ]
  },
  {
   "cell_type": "markdown",
   "metadata": {
    "ExecuteTime": {
     "end_time": "2019-10-31T23:36:28.662099Z",
     "start_time": "2019-10-31T23:36:28.660016Z"
    }
   },
   "source": [
    "In the dataset, the column \"owner\" has non-trivial missingness and we believe it's no NMAR since the missingness can depend on other factors like type of transaction, ticker, or even the transaction date, during data generation. The missingness can either be MAR or MACR. Thus, we will perform three permutation tests to analyze the dependency of missingness of this column on the other three columns, ticket, type, and transaction_date, and determine which column \"owner\" depend on the most."
   ]
  },
  {
   "cell_type": "markdown",
   "metadata": {},
   "source": [
    "Before performing permutation tests, we adds a column 'owner_missing' that uses boolean to indicate whether owner is missing."
   ]
  },
  {
   "cell_type": "code",
   "execution_count": 14,
   "metadata": {},
   "outputs": [
    {
     "data": {
      "text/html": [
       "<div>\n",
       "<style scoped>\n",
       "    .dataframe tbody tr th:only-of-type {\n",
       "        vertical-align: middle;\n",
       "    }\n",
       "\n",
       "    .dataframe tbody tr th {\n",
       "        vertical-align: top;\n",
       "    }\n",
       "\n",
       "    .dataframe thead th {\n",
       "        text-align: right;\n",
       "    }\n",
       "</style>\n",
       "<table border=\"1\" class=\"dataframe\">\n",
       "  <thead>\n",
       "    <tr style=\"text-align: right;\">\n",
       "      <th></th>\n",
       "      <th>disclosure_year</th>\n",
       "      <th>disclosure_date</th>\n",
       "      <th>transaction_date</th>\n",
       "      <th>owner</th>\n",
       "      <th>ticker</th>\n",
       "      <th>type</th>\n",
       "      <th>representative</th>\n",
       "      <th>district</th>\n",
       "      <th>cap_gains_over_200_usd</th>\n",
       "      <th>owner_missing</th>\n",
       "    </tr>\n",
       "  </thead>\n",
       "  <tbody>\n",
       "    <tr>\n",
       "      <th>0</th>\n",
       "      <td>2021</td>\n",
       "      <td>10/04/2021</td>\n",
       "      <td>2021-09-27</td>\n",
       "      <td>joint</td>\n",
       "      <td>BP</td>\n",
       "      <td>purchase</td>\n",
       "      <td>Hon. Virginia Foxx</td>\n",
       "      <td>NC05</td>\n",
       "      <td>False</td>\n",
       "      <td>False</td>\n",
       "    </tr>\n",
       "    <tr>\n",
       "      <th>1</th>\n",
       "      <td>2021</td>\n",
       "      <td>10/04/2021</td>\n",
       "      <td>2021-09-13</td>\n",
       "      <td>joint</td>\n",
       "      <td>XOM</td>\n",
       "      <td>purchase</td>\n",
       "      <td>Hon. Virginia Foxx</td>\n",
       "      <td>NC05</td>\n",
       "      <td>False</td>\n",
       "      <td>False</td>\n",
       "    </tr>\n",
       "    <tr>\n",
       "      <th>2</th>\n",
       "      <td>2021</td>\n",
       "      <td>10/04/2021</td>\n",
       "      <td>2021-09-10</td>\n",
       "      <td>joint</td>\n",
       "      <td>ILPT</td>\n",
       "      <td>purchase</td>\n",
       "      <td>Hon. Virginia Foxx</td>\n",
       "      <td>NC05</td>\n",
       "      <td>False</td>\n",
       "      <td>False</td>\n",
       "    </tr>\n",
       "    <tr>\n",
       "      <th>3</th>\n",
       "      <td>2021</td>\n",
       "      <td>10/04/2021</td>\n",
       "      <td>2021-09-28</td>\n",
       "      <td>joint</td>\n",
       "      <td>PM</td>\n",
       "      <td>purchase</td>\n",
       "      <td>Hon. Virginia Foxx</td>\n",
       "      <td>NC05</td>\n",
       "      <td>False</td>\n",
       "      <td>False</td>\n",
       "    </tr>\n",
       "    <tr>\n",
       "      <th>4</th>\n",
       "      <td>2021</td>\n",
       "      <td>10/04/2021</td>\n",
       "      <td>2021-09-17</td>\n",
       "      <td>self</td>\n",
       "      <td>BLK</td>\n",
       "      <td>sale_partial</td>\n",
       "      <td>Hon. Alan S. Lowenthal</td>\n",
       "      <td>CA47</td>\n",
       "      <td>False</td>\n",
       "      <td>False</td>\n",
       "    </tr>\n",
       "  </tbody>\n",
       "</table>\n",
       "</div>"
      ],
      "text/plain": [
       "   disclosure_year disclosure_date transaction_date  owner ticker  \\\n",
       "0             2021      10/04/2021       2021-09-27  joint     BP   \n",
       "1             2021      10/04/2021       2021-09-13  joint    XOM   \n",
       "2             2021      10/04/2021       2021-09-10  joint   ILPT   \n",
       "3             2021      10/04/2021       2021-09-28  joint     PM   \n",
       "4             2021      10/04/2021       2021-09-17   self    BLK   \n",
       "\n",
       "           type          representative district  cap_gains_over_200_usd  \\\n",
       "0      purchase      Hon. Virginia Foxx     NC05                   False   \n",
       "1      purchase      Hon. Virginia Foxx     NC05                   False   \n",
       "2      purchase      Hon. Virginia Foxx     NC05                   False   \n",
       "3      purchase      Hon. Virginia Foxx     NC05                   False   \n",
       "4  sale_partial  Hon. Alan S. Lowenthal     CA47                   False   \n",
       "\n",
       "   owner_missing  \n",
       "0          False  \n",
       "1          False  \n",
       "2          False  \n",
       "3          False  \n",
       "4          False  "
      ]
     },
     "execution_count": 14,
     "metadata": {},
     "output_type": "execute_result"
    }
   ],
   "source": [
    "copy_missing=  df.copy()\n",
    "copy_missing['owner_missing']=copy_missing['owner'].isna()\n",
    "copy_missing.head()"
   ]
  },
  {
   "cell_type": "markdown",
   "metadata": {},
   "source": [
    "**Firstly**, we want to analyze the dependency of **owner** and **cap_gains_over_200_usd**.<br>\n",
    "**Null hypothesis**: the distribution of \"cap_gains_over_200_usd\" when \"owner\" is missing is the same as the distribution of \"cap_gains_over_200_usd\" when \"owner\" is not missing. The differences is due to randomness.<br />\n",
    "**Alternative hypothesis**: the distribution of \"cap_gains_over_200_usd\" when \"owner\" is missing is not the same as the distribution of \"cap_gains_over_200_usd\" when \"owner\" is not missing. The differences is not due to randomness."
   ]
  },
  {
   "cell_type": "markdown",
   "metadata": {},
   "source": [
    "We calculate the observed total variation distance, the stimulated total variation distance with 500 repeation, and the possibility of observed total variation distance is smaller or equal to stimulated total variation distance."
   ]
  },
  {
   "cell_type": "code",
   "execution_count": 15,
   "metadata": {},
   "outputs": [
    {
     "data": {
      "text/plain": [
       "0.0"
      ]
     },
     "execution_count": 15,
     "metadata": {},
     "output_type": "execute_result"
    }
   ],
   "source": [
    "gain_dis = (copy_missing.pivot_table(index = 'cap_gains_over_200_usd',\n",
    "                             columns = 'owner_missing',aggfunc = 'size'))\n",
    "gain_dis = gain_dis/gain_dis.sum()\n",
    "shuffled = copy_missing.copy()\n",
    "\n",
    "n_repetitions = 500\n",
    "\n",
    "tvds = []\n",
    "for _ in range(n_repetitions):\n",
    "    shuffled['cap_gains_over_200_usd']=np.random.permutation(\n",
    "        shuffled['cap_gains_over_200_usd'])\n",
    "    pivoted = shuffled.pivot_table(index = 'owner_missing',\n",
    "                        columns = 'cap_gains_over_200_usd',\n",
    "                                   aggfunc = 'size').apply(\n",
    "        lambda x: x/x.sum(), axis = 1)\n",
    "    tvds.append(pivoted.diff(axis = 1).iloc[:,-1].abs().sum()/gain_dis.shape[0])\n",
    "obs_tvd = gain_dis.diff(axis = 1).iloc[:,-1].abs().sum()/gain_dis.shape[0]\n",
    "pval= np.mean(tvds<=obs_tvd)\n",
    "pval\n"
   ]
  },
  {
   "cell_type": "markdown",
   "metadata": {},
   "source": [
    "After calculating possibility value as 0.00, we draw a histogram name \"owner and cap_gains_over_200_usd: p_val: 0.00\", and we can conclude that owner siginificantly depend of the column \"cap_gains_over_200_usd\""
   ]
  },
  {
   "cell_type": "code",
   "execution_count": 16,
   "metadata": {},
   "outputs": [
    {
     "data": {
      "image/png": "[encoded data removed]",
      "text/plain": [
       "<Figure size 432x288 with 1 Axes>"
      ]
     },
     "metadata": {
      "needs_background": "light"
     },
     "output_type": "display_data"
    }
   ],
   "source": [
    "pd.Series(tvds).plot(kind='hist', density=True, ec='w',\n",
    "                     title=\"owner and cap_gains_over_200_usd: p_val: 0.00\",\n",
    "                     label='Simulated TVDs',)\n",
    "plt.axvline(x=obs_tvd, color='red', linewidth=1, label='Observed TVD')\n",
    "plt.legend();"
   ]
  },
  {
   "cell_type": "markdown",
   "metadata": {},
   "source": [
    "Since the p-value is 0.0, we reject the null hypothesis that the distribution of \"cap_gains_over_200_usd\" when \"owner\" is missing is the same as the distribution of \"cap_gains_over_200_usd\" when \"owner\" is not missing. Hence, we conlcude that the missingness of \"owner\" is depedent on \"cap_gains_over_200_usd\""
   ]
  },
  {
   "cell_type": "markdown",
   "metadata": {},
   "source": [
    "Secondly, we want to analyze the dependecy of **owner and disclosure_year** by comparing null and non-null 'owner' distribution for disclosure_year."
   ]
  },
  {
   "cell_type": "markdown",
   "metadata": {},
   "source": [
    "**Null hypothesis**: the distribution of \"disclosure_year\" when \"owner\" is missing is the same as the distribution of \"disclosure_year\" when \"owner\" is not missing. The differences is due to randomness.<br />\n",
    "**Alternative hypothesis**: the distribution of \"disclosure_year\" when \"owner\" is missing is not the same as the distribution of \"disclosure_year\" when \"owner\" is not missing. The differences is not due to randomness."
   ]
  },
  {
   "cell_type": "code",
   "execution_count": 25,
   "metadata": {},
   "outputs": [
    {
     "data": {
      "text/plain": [
       "0.0"
      ]
     },
     "execution_count": 25,
     "metadata": {},
     "output_type": "execute_result"
    }
   ],
   "source": [
    "disclo_dis = (copy_missing.pivot_table(index = 'disclosure_year',\\\n",
    "                                       columns = 'owner_missing',\n",
    "                                       aggfunc = 'size'))\n",
    "disclo_dis = disclo_dis/disclo_dis.sum()\n",
    "shuffled = copy_missing.copy()\n",
    "\n",
    "n_repetitions = 500\n",
    "\n",
    "tvds = []\n",
    "for _ in range(n_repetitions):\n",
    "    shuffled['disclosure_year']=np.random.permutation(\n",
    "        shuffled['disclosure_year'])\n",
    "    pivoted = shuffled.pivot_table(index = 'owner_missing',\n",
    "                                   columns = 'disclosure_year',\\\n",
    "                                   aggfunc = 'size').apply(\n",
    "        lambda x: x/x.sum(), axis = 1)\n",
    "    tvds.append(pivoted.diff(axis = 1).iloc[:,-1].abs().sum()/\\\n",
    "                disclo_dis.shape[0])\n",
    "obs_tvd = disclo_dis.diff(axis = 1).iloc[:,-1].abs().sum()/\\\n",
    "disclo_dis.shape[0]\n",
    "pval= np.mean(tvds>=obs_tvd)\n",
    "pval"
   ]
  },
  {
   "cell_type": "markdown",
   "metadata": {},
   "source": [
    "the plot \"owner and disclosure_year p_val:0.00\" shows that owner is also depend on \"disclosure_year\""
   ]
  },
  {
   "cell_type": "code",
   "execution_count": 18,
   "metadata": {},
   "outputs": [
    {
     "data": {
      "image/png": "[encoded data removed]",
      "text/plain": [
       "<Figure size 432x288 with 1 Axes>"
      ]
     },
     "metadata": {
      "needs_background": "light"
     },
     "output_type": "display_data"
    }
   ],
   "source": [
    "pd.Series(tvds).plot(kind='hist', density=True, ec='w',\\\n",
    "                     title=\"owner and disclosure_year p_val:0.00\",\n",
    "                     label='Simulated TVDs')\n",
    "plt.axvline(x=obs_tvd, color='red', linewidth=4, label='Observed TVD')\n",
    "plt.legend();"
   ]
  },
  {
   "cell_type": "markdown",
   "metadata": {},
   "source": [
    "Since the p-value is 0.0, we reject the null hypothesis that the distribution of \"disclosure_year\" when \"owner\" is missing is the same as the distribution of \"disclosure_year\" when \"owner\" is not missing. Hence, we conlcude that the missingness of owner is depedent on \"disclosure year\""
   ]
  },
  {
   "cell_type": "markdown",
   "metadata": {},
   "source": [
    "Thirdly, we want to analyze the dependecy of **owner and district** by comparing null and non-null 'owner' distribution for district.<br>\n",
    "**Null hypothesis**: the distribution of \"district\" when \"owner\" is missing is the same as the distribution of \"district\" when \"owner\" is not missing. The differences is due to randomness.<br />\n",
    "**Alternative hypothesis**: the distribution of \"district\" when \"owner\" is missing is not the same as the distribution of \"district\" when \"owner\" is not missing. The differences is not due to randomness."
   ]
  },
  {
   "cell_type": "code",
   "execution_count": 19,
   "metadata": {},
   "outputs": [
    {
     "data": {
      "text/plain": [
       "0.0"
      ]
     },
     "execution_count": 19,
     "metadata": {},
     "output_type": "execute_result"
    }
   ],
   "source": [
    "distri_dis = (copy_missing.pivot_table(index = 'district',\\\n",
    "                                       columns = 'owner_missing',aggfunc = 'size'))\n",
    "distri_dis = distri_dis/distri_dis.sum()\n",
    "shuffled = copy_missing.copy()\n",
    "\n",
    "n_repetitions = 500\n",
    "\n",
    "tvds = []\n",
    "for _ in range(n_repetitions):\n",
    "    shuffled['district']=np.random.permutation(shuffled['district'])\n",
    "    pivoted = shuffled.pivot_table(index = 'owner_missing',\n",
    "                                   columns = 'district',\\\n",
    "                                   aggfunc = 'size').apply(lambda x: x/x.sum(), axis = 1)\n",
    "    tvds.append(pivoted.diff(axis = 1).iloc[:,-1].abs().sum()/distri_dis.shape[0])\n",
    "obs_tvd = distri_dis.diff(axis = 1).iloc[:,-1].abs().sum()/distri_dis.shape[0]\n",
    "pval= np.mean(tvds>=obs_tvd)\n",
    "pval"
   ]
  },
  {
   "cell_type": "markdown",
   "metadata": {},
   "source": [
    "the plot \"owner and district pval: 0.0\" shows that owner is also depend on \"district\""
   ]
  },
  {
   "cell_type": "code",
   "execution_count": 20,
   "metadata": {},
   "outputs": [
    {
     "data": {
      "image/png": "[encoded data removed]",
      "text/plain": [
       "<Figure size 432x288 with 1 Axes>"
      ]
     },
     "metadata": {
      "needs_background": "light"
     },
     "output_type": "display_data"
    }
   ],
   "source": [
    "pd.Series(tvds).plot(kind='hist', density=True, ec='w', \\\n",
    "                     title=\"owner and district pval: 0.0\", label='Simulated TVDs')\n",
    "plt.axvline(x=obs_tvd, color='red', linewidth=4, label='Observed TVD')\n",
    "plt.legend();"
   ]
  },
  {
   "cell_type": "markdown",
   "metadata": {},
   "source": [
    "Since the p-value is 0.0, we reject the null hypothesis that the distribution of \"district\" when \"owner\" is missing is the same as the distribution of \"district\" when \"owner\" is not missing. Hence, we conlcude that the missingness of \"owner\" is depedent on \"district\""
   ]
  },
  {
   "cell_type": "markdown",
   "metadata": {},
   "source": [
    "Thus, owner missingness depend on cap_gains_over_200_usd, representative, and district since we reject the null hypothesises for the three permutation task and wonder whether congressmen made the similar distribution of stock transaction between year 2020 and years after 2020."
   ]
  },
  {
   "cell_type": "markdown",
   "metadata": {},
   "source": [
    "### Hypothesis Testing"
   ]
  },
  {
   "cell_type": "markdown",
   "metadata": {},
   "source": [
    "Here, we will simulate the test statistics 1000 times and get a p-value from these 1000 simulations"
   ]
  },
  {
   "cell_type": "code",
   "execution_count": 21,
   "metadata": {},
   "outputs": [
    {
     "data": {
      "text/plain": [
       "0.053769645053712595"
      ]
     },
     "execution_count": 21,
     "metadata": {},
     "output_type": "execute_result"
    }
   ],
   "source": [
    "#create a copy of original dataframe so that any changes we make won't be conducted to the original dataframe\n",
    "df2 = df.copy()\n",
    "#simulate n_repititions test statistics\n",
    "n_repetitions = 1000\n",
    "tvds = []\n",
    "for i in range(n_repetitions):\n",
    "    #1:shuffle the types\n",
    "    shuffled_types = df[\"type\"].sample(frac=1).reset_index(drop=True)\n",
    "    \n",
    "    #create the shuffled dataframe\n",
    "    shuffled = df2.assign(**{'Shuffled type': shuffled_types})\n",
    "    \n",
    "    #compute the test statistic\n",
    "    shuffled_dist1 = shuffled[shuffled[\"disclosure_year\"] == 2020][\"Shuffled type\"]\\\n",
    "    .value_counts() / shuffled[shuffled[\"disclosure_year\"] == 2020]\\\n",
    "    [\"Shuffled type\"].value_counts().sum()\n",
    "    shuffled_dist2 = shuffled[shuffled[\"disclosure_year\"] == 2021][\"Shuffled type\"]\\\n",
    "    .value_counts() / shuffled[shuffled[\"disclosure_year\"] == 2021][\"Shuffled type\"]\\\n",
    "    .value_counts().sum()\n",
    "    tvd = abs(shuffled_dist1 - shuffled_dist2).sum() / 2\n",
    "    \n",
    "    tvds.append(tvd)\n",
    "#compute the observed test statistic\n",
    "obs_dist1 = df[df[\"disclosure_year\"] == 2020][\"type\"].value_counts() / \\\n",
    "df[df[\"disclosure_year\"] == 2020][\"type\"].value_counts().sum()\n",
    "obs_dist2 = df[df[\"disclosure_year\"] == 2021][\"type\"].value_counts() / \\\n",
    "df[df[\"disclosure_year\"] == 2021][\"type\"].value_counts().sum()\n",
    "observed = abs(obs_dist1 - obs_dist2).sum() / 2\n",
    "observed"
   ]
  },
  {
   "cell_type": "markdown",
   "metadata": {},
   "source": [
    "Here we get the p-value = 0, and to make the result easier to see, we create a plot to visualize our result."
   ]
  },
  {
   "cell_type": "code",
   "execution_count": 22,
   "metadata": {},
   "outputs": [
    {
     "data": {
      "text/plain": [
       "0.0"
      ]
     },
     "execution_count": 22,
     "metadata": {},
     "output_type": "execute_result"
    }
   ],
   "source": [
    "#the p-value\n",
    "pval = (tvds >= observed).sum() / n_repetitions\n",
    "pval"
   ]
  },
  {
   "cell_type": "markdown",
   "metadata": {},
   "source": [
    "The plot 'Sum of Absolute Differences in Proportions of Stock Types' shows the differences between p-value, p-value cutoff, and stimulated tvds."
   ]
  },
  {
   "cell_type": "code",
   "execution_count": 23,
   "metadata": {},
   "outputs": [
    {
     "data": {
      "image/png": "[encoded data removed]",
      "text/plain": [
       "<Figure size 432x288 with 1 Axes>"
      ]
     },
     "metadata": {
      "needs_background": "light"
     },
     "output_type": "display_data"
    }
   ],
   "source": [
    "#plot a histogram visualizing our p-value result\n",
    "title = 'Sum of Absolute Differences in Proportions of Stock Types'\n",
    "pd.Series(tvds).plot(kind='hist', density=True, ec='w', bins=10, title=title, label = \"tvds\")\n",
    "plt.axvline(x=observed, color='red', linewidth=3, label = \"P-value\")\n",
    "perc = np.percentile(tvds, 99) # 1% significance level\n",
    "plt.axvline(x=perc, color='y', linewidth=3, label='P-value cutoff')\n",
    "\n",
    "plt.legend();"
   ]
  },
  {
   "cell_type": "markdown",
   "metadata": {},
   "source": [
    "Given that p-value is so small that is even smaller than our p-value cutoff, we reject the null hypothesis that \"the trade types of stocks disclosed in 2020 and trade types of those disclosed in 2021 and 2022 have the same distribution. The difference we saw was due to random chance\". "
   ]
  }
 ],
 "metadata": {
  "kernelspec": {
   "display_name": "Python 3",
   "language": "python",
   "name": "python3"
  },
  "language_info": {
   "codemirror_mode": {
    "name": "ipython",
    "version": 3
   },
   "file_extension": ".py",
   "mimetype": "text/x-python",
   "name": "python",
   "nbconvert_exporter": "python",
   "pygments_lexer": "ipython3",
   "version": "3.8.5"
  }
 },
 "nbformat": 4,
 "nbformat_minor": 2
}
